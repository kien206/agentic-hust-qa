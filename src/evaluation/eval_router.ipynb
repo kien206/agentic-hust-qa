{
 "cells": [
  {
   "cell_type": "code",
   "execution_count": 3,
   "id": "dfead821",
   "metadata": {},
   "outputs": [],
   "source": [
    "import json\n",
    "\n",
    "with open(\"../../data/eval/router/qwen3-8b-router.json\", 'r', encoding=\"utf-8\") as f:\n",
    "    data = json.loads(f.read())['data']"
   ]
  },
  {
   "cell_type": "code",
   "execution_count": 4,
   "id": "6c2bf2e3",
   "metadata": {},
   "outputs": [],
   "source": [
    "predictions = [str(record['prediction']) for record in data]\n",
    "labels = [str(record['label']) for record in data]\n",
    "\n",
    "# Calculate overall accuracy\n",
    "correct = sum(1 for pred, label in zip(predictions, labels) if pred == label)"
   ]
  },
  {
   "cell_type": "code",
   "execution_count": 5,
   "id": "c387112b",
   "metadata": {},
   "outputs": [],
   "source": [
    "total = len(data)\n",
    "overall_accuracy = (correct / total) * 100"
   ]
  },
  {
   "cell_type": "code",
   "execution_count": 6,
   "id": "e4251b3c",
   "metadata": {},
   "outputs": [],
   "source": [
    "from collections import defaultdict, Counter\n",
    "\n",
    "class_stats = defaultdict(lambda: {'total': 0, 'correct': 0})\n",
    "    \n",
    "for pred, label in zip(predictions, labels):\n",
    "    class_stats[label]['total'] += 1\n",
    "    if pred == label:\n",
    "        class_stats[label]['correct'] += 1\n",
    "\n",
    "# Calculate per-class accuracies\n",
    "per_class_accuracy = {}\n",
    "for class_name, stats in class_stats.items():\n",
    "    per_class_accuracy[class_name] = (stats['correct'] / stats['total']) * 100\n",
    "\n",
    "label_distribution = Counter(labels)\n",
    "prediction_distribution = Counter(predictions)"
   ]
  },
  {
   "cell_type": "code",
   "execution_count": 7,
   "id": "c8fadd54",
   "metadata": {},
   "outputs": [
    {
     "name": "stdout",
     "output_type": "stream",
     "text": [
      "{'vectorstore': 96.0, 'sql': 100.0, 'irrelevant': 98.0}\n",
      "98.0\n"
     ]
    }
   ],
   "source": [
    "print(per_class_accuracy)\n",
    "print(overall_accuracy)"
   ]
  },
  {
   "cell_type": "code",
   "execution_count": 10,
   "id": "c64aa44b",
   "metadata": {},
   "outputs": [
    {
     "name": "stdout",
     "output_type": "stream",
     "text": [
      "{'vectorstore': 96.0, 'sql': 100.0, 'irrelevant': 100.0}\n",
      "98.5\n"
     ]
    }
   ],
   "source": [
    "print(per_class_accuracy)\n",
    "print(overall_accuracy)"
   ]
  },
  {
   "cell_type": "code",
   "execution_count": 5,
   "id": "78cb85c7",
   "metadata": {},
   "outputs": [
    {
     "name": "stdout",
     "output_type": "stream",
     "text": [
      "{'vectorstore': 96.0, 'sql': 100.0, 'irrelevant': 98.0}\n",
      "98.0\n"
     ]
    }
   ],
   "source": [
    "print(per_class_accuracy)\n",
    "print(overall_accuracy)"
   ]
  },
  {
   "cell_type": "code",
   "execution_count": null,
   "id": "4d3051b3",
   "metadata": {},
   "outputs": [],
   "source": []
  },
  {
   "cell_type": "code",
   "execution_count": null,
   "id": "12c7767c",
   "metadata": {},
   "outputs": [],
   "source": []
  }
 ],
 "metadata": {
  "kernelspec": {
   "display_name": "chatbot-agent",
   "language": "python",
   "name": "python3"
  },
  "language_info": {
   "codemirror_mode": {
    "name": "ipython",
    "version": 3
   },
   "file_extension": ".py",
   "mimetype": "text/x-python",
   "name": "python",
   "nbconvert_exporter": "python",
   "pygments_lexer": "ipython3",
   "version": "3.12.7"
  }
 },
 "nbformat": 4,
 "nbformat_minor": 5
}
