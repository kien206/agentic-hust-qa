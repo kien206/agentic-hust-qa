{
 "cells": [
  {
   "cell_type": "code",
   "execution_count": 1,
   "metadata": {},
   "outputs": [],
   "source": [
    "from langchain_ollama import ChatOllama\n",
    "\n",
    "local_llm = \"llama3.1\"\n",
    "llm = ChatOllama(model=local_llm, temperature=0)\n",
    "llm_json_mode = ChatOllama(model=local_llm, temperature=0, format=\"json\")"
   ]
  },
  {
   "cell_type": "code",
   "execution_count": 2,
   "metadata": {},
   "outputs": [
    {
     "data": {
      "text/plain": [
       "['Huong dan quy trinh phat trien dang vien.txt',\n",
       " 'QC tuyển sinh ĐH 2023_Final_1952023.txt',\n",
       " 'QD 2891 ĐUK, ngay 23112023 ve danh gia can bo LDQL (PH).txt',\n",
       " 'Quy che quan ly su dung tai san ĐHBKHN.txt',\n",
       " 'Quy chế Dân chủ.txt',\n",
       " 'Quy chế Quản lý tài chính.txt',\n",
       " 'Quy chế Tổ chức và hoạt động.txt',\n",
       " 'Quy dinh QL HĐHTĐN_HUST.txt',\n",
       " 'Quy định QLSV nước ngoài 2023.txt',\n",
       " 'Quy định tổ chức thi tiếng Anh nội bộ.txt',\n",
       " 'quy định đánh giá các tổ chức cơ sở đảng trực thuộc đảng ủy khối.txt',\n",
       " 'Quyết đinh ban hành quy chế đào tạo 2023.txt',\n",
       " 'QĐ Học bổng KKHT 2023.txt',\n",
       " 'QĐ Học bổng Trần Đại Nghĩa 2023.txt',\n",
       " 'QĐ miễn giảm học phí 2023.txt',\n",
       " 'QĐ Quản lý câu lạc bộ sinh viên 2023.txt',\n",
       " 'QĐ thi Olympic và ĐMST 2023.txt',\n",
       " 'QĐ đánh giá điểm rèn luyện sinh viên 2023.txt']"
      ]
     },
     "execution_count": 2,
     "metadata": {},
     "output_type": "execute_result"
    }
   ],
   "source": [
    "import os\n",
    "dirname = \"../data/parse/text\"\n",
    "\n",
    "os.listdir(dirname)"
   ]
  },
  {
   "cell_type": "markdown",
   "metadata": {},
   "source": [
    "# RAG"
   ]
  },
  {
   "cell_type": "markdown",
   "metadata": {},
   "source": [
    "## VectorDB ingestion"
   ]
  },
  {
   "cell_type": "code",
   "execution_count": 4,
   "metadata": {},
   "outputs": [],
   "source": [
    "import weaviate\n",
    "\n",
    "client = weaviate.connect_to_local()"
   ]
  },
  {
   "cell_type": "code",
   "execution_count": 5,
   "metadata": {},
   "outputs": [
    {
     "name": "stderr",
     "output_type": "stream",
     "text": [
      "g:\\anaconda\\anaconda3\\envs\\chatbot-agent\\Lib\\site-packages\\sentence_transformers\\cross_encoder\\CrossEncoder.py:13: TqdmWarning: IProgress not found. Please update jupyter and ipywidgets. See https://ipywidgets.readthedocs.io/en/stable/user_install.html\n",
      "  from tqdm.autonotebook import tqdm, trange\n"
     ]
    }
   ],
   "source": [
    "from langchain.text_splitter import RecursiveCharacterTextSplitter\n",
    "from langchain_community.document_loaders import TextLoader\n",
    "from langchain_weaviate import WeaviateVectorStore\n",
    "from langchain_huggingface import HuggingFaceEmbeddings\n",
    "# from langchain_community.vectorstores import Weaviate\n",
    "import os\n",
    "dirname = \"../data/parse/text\"\n",
    "text_dir = os.listdir(dirname)\n",
    "# full_path_dir = \"/\".join(dirname, )\n",
    "# Load documents\n",
    "\n",
    "docs = [TextLoader(os.path.join(dirname, file)).load() for file in text_dir]\n",
    "docs_list = [item for sublist in docs for item in sublist]\n",
    "\n",
    "# Split documents\n",
    "text_splitter = RecursiveCharacterTextSplitter.from_tiktoken_encoder(\n",
    "    chunk_size=1024, chunk_overlap=200\n",
    ")\n",
    "doc_splits = text_splitter.split_documents(docs_list)\n",
    "\n",
    "# Add to vectorDB\n",
    "vectorstore = WeaviateVectorStore.from_documents(\n",
    "    client=client,\n",
    "    documents=doc_splits,\n",
    "    embedding=HuggingFaceEmbeddings(model_name=\"BAAI/bge-m3\",),\n",
    "    index_name=\"Hust_doc\"\n",
    ")\n",
    "\n",
    "# Create retriever\n",
    "retriever = vectorstore.as_retriever(k=3)\n"
   ]
  },
  {
   "cell_type": "markdown",
   "metadata": {},
   "source": [
    "## Router"
   ]
  },
  {
   "cell_type": "code",
   "execution_count": 6,
   "metadata": {},
   "outputs": [
    {
     "name": "stdout",
     "output_type": "stream",
     "text": [
      "{'datasource': 'sql'} {'datasource': 'vectorstore'} {'datasource': 'websearch'}\n"
     ]
    }
   ],
   "source": [
    "### Router\n",
    "import json\n",
    "from langchain_core.messages import HumanMessage, SystemMessage\n",
    "\n",
    "# Prompt\n",
    "router_instructions = \"\"\"You are an expert at routing a user question to a vectorstore or a SQL store or a websearch.\n",
    "\n",
    "The vectorstore contains documents related to Hanoi University of Science & Technology.\n",
    "\n",
    "Use the vectorstore for questions on these topics. For questions related to teachers that include names, use the SQL store. For other questions, use the websearch tool.\n",
    "\n",
    "Return JSON with single key, datasource, that is 'sql' or 'vectorstore' or 'irrelevant' depending on the question.\"\"\"\n",
    "\n",
    "# Test router\n",
    "test_web_search = llm_json_mode.invoke(\n",
    "    [SystemMessage(content=router_instructions)]\n",
    "    + [\n",
    "        HumanMessage(\n",
    "            content=\"Nguyễn Kiêm Hiếu\"\n",
    "        )\n",
    "    ]\n",
    ")\n",
    "test_web_search_2 = llm_json_mode.invoke(\n",
    "    [SystemMessage(content=router_instructions)]\n",
    "    + [HumanMessage(content=\"Phương thức tuyển sinh của bách khoa gồm những gì\")]\n",
    ")\n",
    "test_vector_store = llm_json_mode.invoke(\n",
    "    [SystemMessage(content=router_instructions)]\n",
    "    + [HumanMessage(content=\"Vượt đèn đỏ bị phạt bao nhiêu tiền?\")]\n",
    ")\n",
    "print(\n",
    "    json.loads(test_web_search.content),\n",
    "    json.loads(test_web_search_2.content),\n",
    "    json.loads(test_vector_store.content),\n",
    ")"
   ]
  },
  {
   "cell_type": "markdown",
   "metadata": {},
   "source": [
    "## Grader"
   ]
  },
  {
   "cell_type": "code",
   "execution_count": 7,
   "metadata": {},
   "outputs": [
    {
     "data": {
      "text/plain": [
       "{'binary_score': 'no'}"
      ]
     },
     "execution_count": 7,
     "metadata": {},
     "output_type": "execute_result"
    }
   ],
   "source": [
    "# Doc grader instructions\n",
    "doc_grader_instructions = \"\"\"You are a grader assessing relevance of a retrieved document to a user question.\n",
    "\n",
    "If the document contains keyword(s) or semantic meaning related to the question, grade it as relevant. Both the documents and question will be in Vietnamese.\"\"\"\n",
    "\n",
    "# Grader prompt\n",
    "doc_grader_prompt = \"\"\"Here is the retrieved document: \\n\\n {document} \\n\\n Here is the user question: \\n\\n {question}. \n",
    "\n",
    "This carefully and objectively assess whether the document contains at least some information that is relevant to the question.\n",
    "\n",
    "Return JSON with single key, binary_score, that is 'yes' or 'no' score to indicate whether the document contains at least some information that is relevant to the question.\"\"\"\n",
    "\n",
    "# Test\n",
    "question = \"Bài giải tích này giải như nào?\"\n",
    "docs = retriever.invoke(question)\n",
    "doc_txt = docs[1].page_content\n",
    "doc_grader_prompt_formatted = doc_grader_prompt.format(\n",
    "    document=doc_txt, question=question\n",
    ")\n",
    "result = llm_json_mode.invoke(\n",
    "    [SystemMessage(content=doc_grader_instructions)]\n",
    "    + [HumanMessage(content=doc_grader_prompt_formatted)]\n",
    ")\n",
    "json.loads(result.content)"
   ]
  },
  {
   "cell_type": "markdown",
   "metadata": {},
   "source": [
    "## Main"
   ]
  },
  {
   "cell_type": "code",
   "execution_count": 8,
   "metadata": {},
   "outputs": [
    {
     "name": "stdout",
     "output_type": "stream",
     "text": [
      "Tiêu chuẩn xét cấp học bổng khuyến khích học tập như sau:\n",
      "\n",
      "- Học bổng loại C: GPA ≥ 2,5 và điểm rèn luyện học kỳ ≥ 65 điểm.\n",
      "- Học bổng loại B: GPA ≥ 3,2 và điểm rèn luyện học kỳ ≥ 80 điểm.\n",
      "- Học bổng loại A: GPA ≥ 3,6 và điểm rèn luyện học kỳ ≥ 90 điểm.\n",
      "\n",
      "Học bổng được xét theo khóa, ngành đào tạo và theo thứ tự ưu tiên lần lượt từ loại A đến loại C, từ điểm GPA cao cho đến điểm GPA thấp cho đến khi hết quỹ học bổng.\n"
     ]
    }
   ],
   "source": [
    "# Prompt\n",
    "rag_prompt = \"\"\"You are an expert for question-answering tasks. \n",
    "\n",
    "Here is the context to use to answer the question:\n",
    "\n",
    "{context} \n",
    "\n",
    "Think carefully about the above context. \n",
    "\n",
    "Now, review the user question:\n",
    "\n",
    "{question}\n",
    "\n",
    "Provide an answer to this questions using only the above context.\n",
    "\n",
    "Keep the answer concise, detailed and ALWAYS USE VIETNAMESE TO RESPOND.\n",
    "\n",
    "Answer:\"\"\"\n",
    "\n",
    "\n",
    "# Post-processing\n",
    "def format_docs(docs):\n",
    "    return \"\\n\\n\".join(doc.page_content for doc in docs)\n",
    "\n",
    "question = \"Tiêu chuẩn xét cấp học bổng khuyến khích học tập\"\n",
    "# Test\n",
    "# Retrieve\n",
    "docs = retriever.invoke(question)\n",
    "docs_txt = format_docs(docs)\n",
    "rag_prompt_formatted = rag_prompt.format(context=docs_txt, question=question)\n",
    "generation = llm.invoke([HumanMessage(content=rag_prompt_formatted)])\n",
    "print(generation.content)"
   ]
  },
  {
   "cell_type": "code",
   "execution_count": 9,
   "metadata": {},
   "outputs": [
    {
     "data": {
      "text/plain": [
       "{'binary_score': 'yes',\n",
       " 'explanation': 'Tiêu chuẩn xét cấp học bổng khuyến khích học tập được đề cập trong cả hai văn bản (FACTS và STUDENT ANSWER). Cả hai đều quy định về các loại học bổng (loại A, B, C) và tiêu chí để đạt được mỗi loại. Do đó, STUDENT ANSWER là đúng.'}"
      ]
     },
     "execution_count": 9,
     "metadata": {},
     "output_type": "execute_result"
    }
   ],
   "source": [
    "### Hallucination Grader\n",
    "\n",
    "# Hallucination grader instructions\n",
    "hallucination_grader_instructions = \"\"\"\n",
    "\n",
    "You are a teacher grading a quiz. \n",
    "\n",
    "You will be given FACTS and a STUDENT ANSWER. \n",
    "\n",
    "Here is the grade criteria to follow:\n",
    "\n",
    "(1) Ensure the STUDENT ANSWER is grounded in the FACTS. \n",
    "\n",
    "(2) Ensure the STUDENT ANSWER does not contain \"hallucinated\" information outside the scope of the FACTS.\n",
    "\n",
    "Score:\n",
    "\n",
    "A score of yes means that the student's answer meets all of the criteria. This is the highest (best) score. \n",
    "\n",
    "A score of no means that the student's answer does not meet all of the criteria. This is the lowest possible score you can give.\n",
    "\n",
    "Explain your reasoning in a step-by-step manner to ensure your reasoning and conclusion are correct. \n",
    "\n",
    "Avoid simply stating the correct answer at the outset.\"\"\"\n",
    "\n",
    "# Grader prompt\n",
    "hallucination_grader_prompt = \"\"\"FACTS: \\n\\n {documents} \\n\\n STUDENT ANSWER: {generation}. \n",
    "\n",
    "Return JSON with two two keys, binary_score is 'yes' or 'no' score to indicate whether the STUDENT ANSWER is grounded in the FACTS. And a key, explanation, that contains an explanation of the score.\"\"\"\n",
    "\n",
    "# Test using documents and generation from above\n",
    "hallucination_grader_prompt_formatted = hallucination_grader_prompt.format(\n",
    "    documents=docs_txt, generation=generation.content\n",
    ")\n",
    "result = llm_json_mode.invoke(\n",
    "    [SystemMessage(content=hallucination_grader_instructions)]\n",
    "    + [HumanMessage(content=hallucination_grader_prompt_formatted)]\n",
    ")\n",
    "json.loads(result.content)"
   ]
  },
  {
   "cell_type": "markdown",
   "metadata": {},
   "source": [
    "# Web Search"
   ]
  },
  {
   "cell_type": "code",
   "execution_count": 10,
   "metadata": {},
   "outputs": [],
   "source": [
    "import getpass\n",
    "import os\n",
    "\n",
    "if not os.environ.get(\"TAVILY_API_KEY\"):\n",
    "    os.environ[\"TAVILY_API_KEY\"] = getpass.getpass(\"Tavily API key:\\n\")\n",
    "    # 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"
   ]
  },
  {
   "cell_type": "code",
   "execution_count": 11,
   "metadata": {},
   "outputs": [],
   "source": [
    "### Search\n",
    "from langchain_community.tools.tavily_search import TavilySearchResults\n",
    "\n",
    "web_search_tool = TavilySearchResults(k=3)"
   ]
  },
  {
   "cell_type": "markdown",
   "metadata": {},
   "source": [
    "# SQL"
   ]
  },
  {
   "cell_type": "markdown",
   "metadata": {},
   "source": [
    "## Database creation"
   ]
  },
  {
   "cell_type": "code",
   "execution_count": 12,
   "metadata": {},
   "outputs": [],
   "source": [
    "from sqlalchemy import (\n",
    "    create_engine,\n",
    "    MetaData,\n",
    "    Table,\n",
    "    Column,\n",
    "    String,\n",
    "    Integer,\n",
    ")\n",
    "\n",
    "from langchain_community.utilities import SQLDatabase\n",
    "\n",
    "engine = create_engine(\"sqlite:///:memory:\", future=True)\n",
    "metadata_obj = MetaData()\n",
    "\n",
    "# create city SQL table\n",
    "table_name = \"teacher\"\n",
    "teacher_table = Table(\n",
    "    table_name,\n",
    "    metadata_obj,\n",
    "    Column(\"name\", String(16), primary_key=True),\n",
    "    Column(\"subjects\", String(16)),\n",
    ")\n",
    "\n",
    "metadata_obj.create_all(engine)\n",
    "db=SQLDatabase(engine=engine, include_tables=['teacher'])"
   ]
  },
  {
   "cell_type": "code",
   "execution_count": 13,
   "metadata": {},
   "outputs": [
    {
     "name": "stdout",
     "output_type": "stream",
     "text": [
      "[('Đinh Viết Sang', 'Thị giác máy tính'), ('Đặng Tuấn Linh', 'Học sâu'), ('Nguyễn Kiêm Hiếu', 'Web Mining')]\n"
     ]
    }
   ],
   "source": [
    "from sqlalchemy import insert\n",
    "\n",
    "rows = [\n",
    "    {\"name\": \"Đinh Viết Sang\", \"subjects\": \"Thị giác máy tính\"},\n",
    "    {\"name\": \"Đặng Tuấn Linh\", \"subjects\": \"Học sâu\"},\n",
    "    {\"name\": \"Nguyễn Kiêm Hiếu\", \"subjects\": \"Web Mining\"}\n",
    "]\n",
    "for row in rows:\n",
    "    stmt = insert(teacher_table).values(**row)\n",
    "    with engine.begin() as connection:\n",
    "        cursor = connection.execute(stmt)\n",
    "\n",
    "with engine.connect() as connection:\n",
    "    cursor = connection.exec_driver_sql(\"SELECT * FROM teacher\")\n",
    "    print(cursor.fetchall())"
   ]
  },
  {
   "cell_type": "code",
   "execution_count": 14,
   "metadata": {},
   "outputs": [
    {
     "name": "stdout",
     "output_type": "stream",
     "text": [
      "sqlite\n",
      "['teacher']\n",
      "Error\n"
     ]
    }
   ],
   "source": [
    "print(db.dialect)\n",
    "print(db.get_usable_table_names())\n",
    "try:\n",
    "    db.run(\"SELECT * FROM table;\")\n",
    "except:\n",
    "    print(\"Error\")"
   ]
  },
  {
   "cell_type": "markdown",
   "metadata": {},
   "source": [
    "## SQL rewrite"
   ]
  },
  {
   "cell_type": "code",
   "execution_count": 15,
   "metadata": {},
   "outputs": [
    {
     "name": "stdout",
     "output_type": "stream",
     "text": [
      "{'sql_query': \"SELECT name FROM teacher WHERE subjects = 'Thị giác máy tính'\"}\n"
     ]
    }
   ],
   "source": [
    "\n",
    "sql_instruction = \"\"\"\n",
    "You are an expert in question-answering tasks.\n",
    "\n",
    "You will be given a question relating to a person/teacher of Hanoi University of Science & Technology.\n",
    "\n",
    "The database tables are {table_list}, with each tables attributes are name and subjects.\n",
    "\n",
    "Your job is to rewrite the question into a SQL query. Return a JSON format with a single key, sql_query, with the result query as its value.\n",
    "\"\"\"\n",
    "\n",
    "sql_prompt = sql_instruction.format(table_list=db.get_usable_table_names())\n",
    "test_sql_search = llm_json_mode.invoke(\n",
    "    [SystemMessage(content=sql_prompt)]\n",
    "    + [\n",
    "        HumanMessage(\n",
    "            content=\"Có những giảng viên nào dạy môn thị giác máy tính\"\n",
    "        )\n",
    "    ]\n",
    ")\n",
    "\n",
    "print(json.loads(test_sql_search.content))"
   ]
  },
  {
   "cell_type": "markdown",
   "metadata": {},
   "source": [
    "## SQL Checker"
   ]
  },
  {
   "cell_type": "code",
   "execution_count": 16,
   "metadata": {},
   "outputs": [
    {
     "name": "stdout",
     "output_type": "stream",
     "text": [
      "21\n",
      "[('Đinh Viết Sang',)]\n"
     ]
    }
   ],
   "source": [
    "sql = json.loads(test_sql_search.content)\n",
    "try:\n",
    "   response = db.run(sql['sql_query'])\n",
    "   print(len(response))\n",
    "   print(response)\n",
    "except:\n",
    "    print(\"NONE\")"
   ]
  },
  {
   "cell_type": "markdown",
   "metadata": {},
   "source": [
    "## Reponse generation"
   ]
  },
  {
   "cell_type": "code",
   "execution_count": 17,
   "metadata": {},
   "outputs": [
    {
     "name": "stdout",
     "output_type": "stream",
     "text": [
      "content='Giảng viên Đinh Viết Sang là người dạy môn Thị giác máy tính.' additional_kwargs={} response_metadata={'model': 'llama3.1', 'created_at': '2024-12-09T08:50:56.7637047Z', 'message': {'role': 'assistant', 'content': ''}, 'done_reason': 'stop', 'done': True, 'total_duration': 6353399700, 'load_duration': 30258400, 'prompt_eval_count': 130, 'prompt_eval_duration': 1852719000, 'eval_count': 18, 'eval_duration': 4467973000} id='run-33f9b09d-4da2-4185-9e77-1de8cfb9afa7-0' usage_metadata={'input_tokens': 130, 'output_tokens': 18, 'total_tokens': 148}\n"
     ]
    }
   ],
   "source": [
    "sql_answer_prompt =\"\"\"\n",
    "You are an expert in questions-answering tasks.\n",
    "\n",
    "You are given a question from the user and an output from a SQL query.\n",
    "\n",
    "Your job is to generate an answer based on the question and the query result. If there is no SQL output, simply ask the user to ask again.\n",
    "\n",
    "Keep the answer consise and ALWAYS RESPOND IN VIETNAMESE.\n",
    "\n",
    "Question: {question}.\n",
    "SQL Query: {query}.\n",
    "SQL Query Output: {output}.\n",
    "\n",
    "Answer:\n",
    "\"\"\"\n",
    "\n",
    "sql_answer_prompt_format = sql_answer_prompt.format(question=\"Có những giảng viên nào dạy môn thị giác máy tính\",\n",
    "                                                    query=sql['sql_query'],\n",
    "                                                    output=response)\n",
    "\n",
    "sql_output = llm.invoke(\n",
    "    [HumanMessage(content=sql_answer_prompt_format)]\n",
    ")\n",
    "print(sql_output)"
   ]
  },
  {
   "cell_type": "markdown",
   "metadata": {},
   "source": [
    "# Graph"
   ]
  },
  {
   "cell_type": "code",
   "execution_count": 18,
   "metadata": {},
   "outputs": [],
   "source": [
    "import operator\n",
    "from typing_extensions import TypedDict\n",
    "from typing import List, Annotated\n",
    "\n",
    "\n",
    "class GraphState(TypedDict):\n",
    "    \"\"\"\n",
    "    Graph state is a dictionary that contains information we want to propagate to, and modify in, each graph node.\n",
    "    \"\"\"\n",
    "\n",
    "    question: str  # User question\n",
    "    generation: str  # LLM generation\n",
    "    sql_query: str  # Binary decision to run web search\n",
    "    sql_result: str\n",
    "    end: str # Decision to end the conversation\n",
    "    web_search: str\n",
    "    sql: bool # Tag to decide SQL generation or RAG\n",
    "    max_retries: int  # Max number of retries for answer generation\n",
    "    answers: int  # Number of answers generated\n",
    "    loop_step: Annotated[int, operator.add]\n",
    "    documents: List[str]  # List of retrieved documents\n"
   ]
  },
  {
   "cell_type": "code",
   "execution_count": 48,
   "metadata": {},
   "outputs": [],
   "source": [
    "from langchain.schema import Document\n",
    "from langgraph.graph import END\n",
    "import asyncio\n",
    "\n",
    "### Nodes\n",
    "async def retrieve(state):\n",
    "    \"\"\"\n",
    "    Retrieve documents from vectorstore\n",
    "\n",
    "    Args:\n",
    "        state (dict): The current graph state\n",
    "\n",
    "    Returns:\n",
    "        state (dict): New key added to state, documents, that contains retrieved documents\n",
    "    \"\"\"\n",
    "    print(\"---RETRIEVE---\")\n",
    "    question = state[\"question\"]\n",
    "\n",
    "    # Write retrieved documents to documents key in state\n",
    "    documents = await retriever.ainvoke(question)\n",
    "    return {\"documents\": documents, \"sql\": False}\n",
    "\n",
    "\n",
    "async def generate(state):\n",
    "    \"\"\"\n",
    "    Generate answer using RAG on retrieved documents\n",
    "\n",
    "    Args:\n",
    "        state (dict): The current graph state\n",
    "\n",
    "    Returns:\n",
    "        state (dict): New key added to state, generation, that contains LLM generation\n",
    "    \"\"\"\n",
    "    print(\"---GENERATE---\")\n",
    "    question = state[\"question\"]\n",
    "    \n",
    "    loop_step = state.get(\"loop_step\", 0)\n",
    "    \n",
    "    # RAG generation\n",
    "    if state['sql']:\n",
    "        print(\"---GENERATION FOR SQL---\")\n",
    "        query = state['sql_query']\n",
    "        sql_result = state['sql_result']\n",
    "        sql_answer_prompt_format = sql_answer_prompt.format(question=question,\n",
    "                                                    query=query,\n",
    "                                                    output=sql_result)\n",
    "        sql_output = await llm.ainvoke(\n",
    "            [HumanMessage(content=sql_answer_prompt_format)]\n",
    "        )\n",
    "        return {\"generation\": sql_output, \"loop_step\": loop_step + 1}\n",
    "    documents = state[\"documents\"]\n",
    "    docs_txt = format_docs(documents)\n",
    "    rag_prompt_formatted = rag_prompt.format(context=docs_txt, question=question)\n",
    "    generation = await llm.ainvoke([HumanMessage(content=rag_prompt_formatted)])\n",
    "    return {\"generation\": generation, \"loop_step\": loop_step + 1}\n",
    "\n",
    "async def web_search(state):\n",
    "    \"\"\"\n",
    "    Web search based based on the question\n",
    "\n",
    "    Args:\n",
    "        state (dict): The current graph state\n",
    "\n",
    "    Returns:\n",
    "        state (dict): Appended web results to documents\n",
    "    \"\"\"\n",
    "\n",
    "    print(\"---WEB SEARCH---\")\n",
    "    question = state[\"question\"]\n",
    "    documents = state.get(\"documents\", [])\n",
    "\n",
    "    # Web search\n",
    "    docs = await web_search_tool.ainvoke({\"query\": question})\n",
    "    web_results = \"\\n\".join([d[\"content\"] for d in docs])\n",
    "    web_results = Document(page_content=web_results)\n",
    "    documents.append(web_results)\n",
    "    return {\"documents\": documents, 'sql': False}\n",
    "\n",
    "\n",
    "async def grade_documents(state):\n",
    "    \"\"\"\n",
    "    Determines whether the retrieved documents are relevant to the question\n",
    "    If any document is not relevant, we will set a flag to run web search\n",
    "\n",
    "    Args:\n",
    "        state (dict): The current graph state\n",
    "\n",
    "    Returns:\n",
    "        state (dict): Filtered out irrelevant documents and updated end state\n",
    "    \"\"\"\n",
    "\n",
    "    print(\"---CHECK DOCUMENT RELEVANCE TO QUESTION---\")\n",
    "    question = state[\"question\"]\n",
    "    documents = state[\"documents\"]\n",
    "\n",
    "    # Score each doc\n",
    "    filtered_docs = []\n",
    "    websearch = \"No\"\n",
    "    for d in documents:\n",
    "        doc_grader_prompt_formatted = doc_grader_prompt.format(\n",
    "            document=d.page_content, question=question\n",
    "        )\n",
    "        result = await llm_json_mode.ainvoke(\n",
    "            [SystemMessage(content=doc_grader_instructions)]\n",
    "            + [HumanMessage(content=doc_grader_prompt_formatted)]\n",
    "        )\n",
    "        grade = json.loads(result.content)[\"binary_score\"]\n",
    "        # Document relevant\n",
    "        if grade.lower() == \"yes\":\n",
    "            print(\"---GRADE: DOCUMENT RELEVANT---\")\n",
    "            filtered_docs.append(d)\n",
    "        # Document not relevant\n",
    "        else:\n",
    "            print(\"---GRADE: DOCUMENT NOT RELEVANT---\")\n",
    "            # We do not include the document in filtered_docs\n",
    "            # We set a flag to indicate that we want to run web search\n",
    "            # websearch = \"Yes\"\n",
    "            continue\n",
    "    return {\"documents\": filtered_docs, \"web_search\": websearch}\n",
    "\n",
    "async def rewrite(state):\n",
    "    \"\"\"\n",
    "    \n",
    "    Rewrite user query into SQL command\n",
    "\n",
    "    Args:\n",
    "        state (dict): The current graph state\n",
    "\n",
    "    Returns:\n",
    "        state (dict): The SQL query\n",
    "    \"\"\"\n",
    "    print(\"---REWRITING QUERY TO SQL---\")\n",
    "    sql_prompt = sql_instruction.format(table_list=db.get_usable_table_names())\n",
    "    question = state[\"question\"]\n",
    "    result = await llm_json_mode.ainvoke(\n",
    "        [SystemMessage(content=sql_prompt)]\n",
    "        + [\n",
    "            HumanMessage(\n",
    "                content=question\n",
    "            )\n",
    "        ]\n",
    "    )\n",
    "    query = json.loads(result.content)\n",
    "    return {\"sql_query\": query['sql_query'], \"sql\": True}\n",
    "\n",
    "async def run_sql(state):\n",
    "    \"\"\"\n",
    "    \n",
    "    Run the SQL command and check if feasible.\n",
    "\n",
    "    Args:\n",
    "        state (dict): The current graph state\n",
    "\n",
    "    Returns:\n",
    "        state (dict): Output of SQL query\n",
    "\n",
    "    \"\"\"\n",
    "    print(\"---RUNNING SQL QUERY---\")\n",
    "    query = state['sql_query']\n",
    "    try:\n",
    "        response = await db.run(query)\n",
    "    except:\n",
    "        response = None\n",
    "    \n",
    "    return {\"sql_result\": response}\n",
    "\n",
    "# EDGES\n",
    "def check_sql(state):\n",
    "    \"\"\"\n",
    "    Determines whether to generate or use web_search\n",
    "\n",
    "    Args:\n",
    "        state (dict): The current graph state\n",
    "\n",
    "    Returns:\n",
    "        str: Next node to call\n",
    "    \"\"\"\n",
    "    print(\"---CHECKING SQL RESULT---\")\n",
    "    response = state[\"sql_result\"]\n",
    "    if response:\n",
    "        return \"result found\"\n",
    "    return  \"no result\"\n",
    "\n",
    "async def route_question(state):\n",
    "    \"\"\"\n",
    "    Route question to web search or RAG\n",
    "\n",
    "    Args:\n",
    "        state (dict): The current graph state\n",
    "\n",
    "    Returns:\n",
    "        str: Next node to call\n",
    "    \"\"\"\n",
    "\n",
    "    print(\"---ROUTE QUESTION---\")\n",
    "    route_question = await llm_json_mode.ainvoke(\n",
    "        [SystemMessage(content=router_instructions)]\n",
    "        + [HumanMessage(content=state[\"question\"])]\n",
    "    )\n",
    "    source = json.loads(route_question.content)[\"datasource\"]\n",
    "    if source == \"sql\":\n",
    "        print(\"---ROUTE QUESTION TO SQL---\")\n",
    "        # state['sql'] = True\n",
    "        return \"sql\"\n",
    "    elif source == \"vectorstore\":\n",
    "        print(\"---ROUTE QUESTION TO RAG---\")\n",
    "        # state['sql'] = False\n",
    "        return \"vectorstore\"\n",
    "    else:\n",
    "        print('---ROUTE QUESTION TO WEBSEARCH---')\n",
    "        return 'irrelevant'\n",
    "\n",
    "def decide_to_generate(state):\n",
    "    \"\"\"\n",
    "    Determines whether to generate an answer, or add web search\n",
    "\n",
    "    Args:\n",
    "        state (dict): The current graph state\n",
    "\n",
    "    Returns:\n",
    "        str: Binary decision for next node to call\n",
    "    \"\"\"\n",
    "\n",
    "    print(\"---ASSESS GRADED DOCUMENTS---\")\n",
    "    # question = state[\"question\"]\n",
    "    web_search = state[\"web_search\"]\n",
    "    # filtered_documents = state[\"documents\"]\n",
    "\n",
    "    if web_search == \"Yes\":\n",
    "        # All documents have been filtered check_relevance\n",
    "        # We will re-generate a new query\n",
    "        print(\n",
    "            \"---DECISION: NOT ALL DOCUMENTS ARE RELEVANT TO QUESTION---\"\n",
    "        )\n",
    "        return \"websearch\"\n",
    "    else:\n",
    "        # We have relevant documents, so generate answer\n",
    "        print(\"---DECISION: GENERATE---\")\n",
    "        return \"generate\"\n",
    "\n",
    "\n",
    "async def grade_generation_v_documents_and_question(state):\n",
    "    \"\"\"\n",
    "    Determines whether the generation is grounded in the document and answers question\n",
    "\n",
    "    Args:\n",
    "        state (dict): The current graph state\n",
    "\n",
    "    Returns:\n",
    "        str: Decision for next node to call\n",
    "    \"\"\"\n",
    "    if state['sql']:\n",
    "        return 'useful'\n",
    "    \n",
    "    print(\"---CHECK HALLUCINATIONS---\")\n",
    "    # question = state[\"question\"]\n",
    "    \n",
    "    generation = state[\"generation\"]\n",
    "    max_retries = state.get(\"max_retries\", 3)  # Default to 3 if not provided\n",
    "    if not state['sql']:\n",
    "        documents = state[\"documents\"]\n",
    "        hallucination_grader_prompt_formatted = hallucination_grader_prompt.format(\n",
    "            documents=format_docs(documents), generation=generation.content\n",
    "        )\n",
    "    else:\n",
    "        query_result = state[\"sql_result\"]\n",
    "        hallucination_grader_prompt_formatted = hallucination_grader_prompt.format(\n",
    "            documents=query_result, generation=generation.content\n",
    "        )\n",
    "    result = await llm_json_mode.ainvoke(\n",
    "        [SystemMessage(content=hallucination_grader_instructions)]\n",
    "        + [HumanMessage(content=hallucination_grader_prompt_formatted)]\n",
    "    )\n",
    "    \n",
    "    grade = json.loads(result.content)[\"binary_score\"]\n",
    "\n",
    "    # Check hallucination\n",
    "    if grade == \"yes\":\n",
    "        print(\"---DECISION: GENERATION ADDRESSES QUESTION---\")\n",
    "        return \"useful\"\n",
    "    elif state[\"loop_step\"] <= max_retries:\n",
    "        print(\"---DECISION: GENERATION DOES NOT ADDRESS QUESTION---\")\n",
    "        return \"unanswerable\"\n",
    "    # elif state[\"loop_step\"] <= max_retries:\n",
    "    #     print(\"---DECISION: GENERATION IS NOT GROUNDED IN DOCUMENTS, RE-TRY---\")\n",
    "    #     return \"not supported\"\n",
    "    else:\n",
    "        print(\"---DECISION: MAX RETRIES REACHED---\")\n",
    "        return \"max retries\""
   ]
  },
  {
   "cell_type": "code",
   "execution_count": 49,
   "metadata": {},
   "outputs": [
    {
     "data": {
      "image/png": "[encoded data removed]",
      "text/plain": [
       "<IPython.core.display.Image object>"
      ]
     },
     "metadata": {},
     "output_type": "display_data"
    }
   ],
   "source": [
    "from langgraph.graph import StateGraph\n",
    "from IPython.display import Image, display\n",
    "\n",
    "workflow = StateGraph(GraphState)\n",
    "\n",
    "# Define the nodes\n",
    "workflow.add_node(\"rewrite\", rewrite)  # web search\n",
    "workflow.add_node(\"run_sql\", run_sql)\n",
    "# workflow.add_node(\"sql_answer\", sql_answer)\n",
    "workflow.add_node(\"retrieve\", retrieve)  # retrieve\n",
    "workflow.add_node(\"grade_documents\", grade_documents)  # grade documents\n",
    "workflow.add_node(\"generate\", generate)  # generate\n",
    "workflow.add_node(\"websearch\", web_search)\n",
    "\n",
    "# Build graph\n",
    "workflow.set_conditional_entry_point(\n",
    "    route_question,\n",
    "    {\n",
    "        \"sql\": \"rewrite\",\n",
    "        \"vectorstore\": \"retrieve\",\n",
    "        \"irrelevant\": \"websearch\",\n",
    "    },\n",
    ")\n",
    "workflow.add_edge(\"rewrite\", \"run_sql\")\n",
    "# workflow.add_edge(\"run_sql\", \"generate\")\n",
    "workflow.add_conditional_edges(\n",
    "    \"run_sql\",\n",
    "    check_sql,\n",
    "    {\n",
    "        \"result found\": \"generate\",\n",
    "        \"no result\": \"websearch\",\n",
    "    }\n",
    ")\n",
    "\n",
    "# workflow.add_edge(\"sql_answer\", END)\n",
    "workflow.add_edge(\"retrieve\", \"grade_documents\")\n",
    "workflow.add_conditional_edges(\n",
    "    \"grade_documents\",\n",
    "    decide_to_generate,\n",
    "    {\n",
    "        \"websearch\": \"websearch\",\n",
    "        \"generate\": \"generate\",\n",
    "    },\n",
    ")\n",
    "workflow.add_edge(\"generate\", END)\n",
    "# workflow.add_conditional_edges(\n",
    "#     \"generate\",\n",
    "#     grade_generation_v_documents_and_question,\n",
    "#     {\n",
    "#         # \"not supported\": \"generate\",\n",
    "#         \"useful\": END,\n",
    "#         \"unanswerable\": \"generate\",\n",
    "#         \"max retries\": END,\n",
    "#     },\n",
    "# )\n",
    "workflow.add_edge(\"websearch\", \"generate\")\n",
    "# Compile\n",
    "graph = workflow.compile()\n",
    "display(Image(graph.get_graph().draw_mermaid_png()))"
   ]
  },
  {
   "cell_type": "code",
   "execution_count": 50,
   "metadata": {},
   "outputs": [
    {
     "name": "stdout",
     "output_type": "stream",
     "text": [
      "---ROUTE QUESTION---\n",
      "---ROUTE QUESTION---\n",
      "---ROUTE QUESTION TO RAG---\n",
      "---RETRIEVE---\n",
      "---CHECK DOCUMENT RELEVANCE TO QUESTION---\n",
      "---ROUTE QUESTION TO RAG---\n",
      "---RETRIEVE---\n",
      "---CHECK DOCUMENT RELEVANCE TO QUESTION---\n",
      "---GRADE: DOCUMENT RELEVANT---\n",
      "---GRADE: DOCUMENT RELEVANT---\n",
      "---GRADE: DOCUMENT RELEVANT---\n",
      "---GRADE: DOCUMENT RELEVANT---\n",
      "---GRADE: DOCUMENT RELEVANT---\n",
      "---GRADE: DOCUMENT RELEVANT---\n",
      "---GRADE: DOCUMENT RELEVANT---\n",
      "---ASSESS GRADED DOCUMENTS---\n",
      "---DECISION: GENERATE---\n",
      "---GENERATE---\n",
      "---GRADE: DOCUMENT RELEVANT---\n",
      "---ASSESS GRADED DOCUMENTS---\n",
      "---DECISION: GENERATE---\n",
      "---GENERATE---\n"
     ]
    }
   ],
   "source": [
    "inputs = [{\"question\": \"Tiêu chuẩn xét cấp học bổng khuyến khích học tập\", \"max_retries\": 3}, \n",
    "          {\"question\": \"Tiêu chuẩn xét cấp học bổng trần đại nghĩa\", \"max_retries\": 3}]\n",
    "calls = [\n",
    "    graph.ainvoke(input=inputs[0]),\n",
    "    graph.ainvoke(input=inputs[1])\n",
    "]\n",
    "outputs = await asyncio.gather(*calls)"
   ]
  },
  {
   "cell_type": "code",
   "execution_count": 55,
   "metadata": {},
   "outputs": [
    {
     "name": "stdout",
     "output_type": "stream",
     "text": [
      "---ROUTE QUESTION---\n",
      "---ROUTE QUESTION TO RAG---\n",
      "---RETRIEVE---\n",
      "---CHECK DOCUMENT RELEVANCE TO QUESTION---\n",
      "---GRADE: DOCUMENT RELEVANT---\n",
      "---GRADE: DOCUMENT RELEVANT---\n",
      "---GRADE: DOCUMENT RELEVANT---\n",
      "---GRADE: DOCUMENT RELEVANT---\n",
      "---ASSESS GRADED DOCUMENTS---\n",
      "---DECISION: GENERATE---\n",
      "---GENERATE---\n"
     ]
    }
   ],
   "source": [
    "test = await asyncio.gather(graph.ainvoke(input=inputs[0]))"
   ]
  },
  {
   "cell_type": "code",
   "execution_count": null,
   "metadata": {},
   "outputs": [
    {
     "name": "stdout",
     "output_type": "stream",
     "text": [
      "---ROUTE QUESTION---\n",
      "---ROUTE QUESTION TO SQL---\n",
      "{'question': 'đinh viết sang', 'max_retries': 3, 'loop_step': 0}\n",
      "---REWRITING QUERY TO SQL---\n",
      "{'question': 'đinh viết sang', 'sql_query': \"SELECT * FROM teacher WHERE name = 'Đinh Viết Sang'\", 'sql': True, 'max_retries': 3, 'loop_step': 0}\n",
      "---RUNNING SQL QUERY---\n",
      "---CHECKING SQL RESULT---\n",
      "{'question': 'đinh viết sang', 'sql_query': \"SELECT * FROM teacher WHERE name = 'Đinh Viết Sang'\", 'sql_result': \"[('Đinh Viết Sang', 'Thị giác máy tính')]\", 'sql': True, 'max_retries': 3, 'loop_step': 0}\n",
      "---GENERATE---\n",
      "---GENERATION FOR SQL---\n",
      "---CHECK HALLUCINATIONS---\n",
      "---DECISION: GENERATION IS GROUNDED IN DOCUMENTS---\n",
      "---DECISION: GENERATION ADDRESSES QUESTION---\n",
      "{'question': 'đinh viết sang', 'generation': AIMessage(content='Giáo viên Đinh Viết Sang chuyên môn về thị giác máy tính.', additional_kwargs={}, response_metadata={'model': 'llama3.1', 'created_at': '2024-11-21T10:13:28.1604443Z', 'message': {'role': 'assistant', 'content': ''}, 'done_reason': 'stop', 'done': True, 'total_duration': 5323814400, 'load_duration': 26404100, 'prompt_eval_count': 129, 'prompt_eval_duration': 1795229000, 'eval_count': 17, 'eval_duration': 3501205000}, id='run-8f51d58e-8f11-4ce1-80db-ec9a8176e68b-0', usage_metadata={'input_tokens': 129, 'output_tokens': 17, 'total_tokens': 146}), 'sql_query': \"SELECT * FROM teacher WHERE name = 'Đinh Viết Sang'\", 'sql_result': \"[('Đinh Viết Sang', 'Thị giác máy tính')]\", 'sql': True, 'max_retries': 3, 'loop_step': 1}\n",
      "---------\n",
      "Giáo viên Đinh Viết Sang chuyên môn về thị giác máy tính.\n"
     ]
    }
   ],
   "source": [
    "inputs = {\"question\": \"đinh viết sang\", \"max_retries\": 3}\n",
    "for event in graph.stream(inputs, stream_mode=\"values\"):\n",
    "    print(event)\n",
    "print(\"---------\")\n",
    "print(event['generation'].content)"
   ]
  },
  {
   "cell_type": "code",
   "execution_count": null,
   "metadata": {},
   "outputs": [
    {
     "name": "stdout",
     "output_type": "stream",
     "text": [
      "---ROUTE QUESTION---\n",
      "---ROUTE QUESTION TO WEBSEARCH---\n",
      "{'question': 'Con bò có mấy cái chân', 'max_retries': 3, 'loop_step': 0}\n",
      "---WEB SEARCH---\n",
      "{'question': 'Con bò có mấy cái chân', 'sql': False, 'max_retries': 3, 'loop_step': 0, 'documents': [Document(metadata={}, page_content='Mục đích câu hỏi là hỏi về con bò, con bò có mấy chân, con bò có 4 chân: 6: ... Con bò: 7: Có 10 con bò và 9 cái chuồng. Hỏi xây làm sao mà mỗi con 1 chuồng, không được 1 chuồng 2 con và không có con nào ở ngoài? Xây các chuồng bò thành hình tam giác, mỗi cạnh 3 chuồng, con thứ\\nCon trả lời là 5. - Bò chỉ có 4 chân thôi mà? - Tũn tròn mắt. Cậu con trai nhún vai: - Nhưng con là người đưa ra đáp án gần đúng nhất! - !!! Tất Nhiên (st) Trở lại Thư giãn Trở lại Thư giãn. Thấy cậu con trai trở về với chiếc nơ xanh trên cổ tay, Tũn hỏi: - VnExpress.\\nĐáp án: Con bò này cưỡi lên lưng con bò kia theo vòng tròn nên mỗi con chỉ có 2 chân. Đó là lý do vì sao khi bạn nhìn thấy 6 con bò lại chỉ đếm thấy có 12 cái chân. Đọc báo điện tử Thiếu niên Tiền phong và Nhi đồng nhanh chóng, thuận tiện và an toàn hơn trên các thiết bị\\nNgoài 4 cái chân thì trên lưng còn có thêm 2 chân nhỏ và 1 cái đuôi. Anh Tuấn say đó mua con bê này về để nuôi. Khi đưa về nuôi, con bò dần lớn lên và 2 cái chân trên lưng cũng lớn dần theo. Đến nay, 2 cái chân trên lưng lớn không kém 4 chiếc chân chính khác.\\nCon bò có 5 chân. - Nơ xanh ở đâu vậy con? - Hôm nay con trả lời đúng câu hỏi của cô giáo nên được thưởng ạ! - cậu con trai tự hào đáp. - Con giỏi quá! - Tũn khích lệ - Thế cô giáo hỏi gì nào? - Cô hỏi con bò có mấy chân?')]}\n",
      "---GENERATE---\n",
      "---CHECK HALLUCINATIONS---\n",
      "---DECISION: GENERATION IS GROUNDED IN DOCUMENTS---\n",
      "---DECISION: GENERATION ADDRESSES QUESTION---\n",
      "{'question': 'Con bò có mấy cái chân', 'generation': AIMessage(content='Con bò có 5 cái chân.', additional_kwargs={}, response_metadata={'model': 'llama3.1', 'created_at': '2024-11-21T10:15:47.4600293Z', 'message': {'role': 'assistant', 'content': ''}, 'done_reason': 'stop', 'done': True, 'total_duration': 10360081600, 'load_duration': 19981500, 'prompt_eval_count': 523, 'prompt_eval_duration': 8549378000, 'eval_count': 9, 'eval_duration': 1789595000}, id='run-9082c3b7-7539-4f1d-ba1c-50f15c244018-0', usage_metadata={'input_tokens': 523, 'output_tokens': 9, 'total_tokens': 532}), 'sql': False, 'max_retries': 3, 'loop_step': 1, 'documents': [Document(metadata={}, page_content='Mục đích câu hỏi là hỏi về con bò, con bò có mấy chân, con bò có 4 chân: 6: ... Con bò: 7: Có 10 con bò và 9 cái chuồng. Hỏi xây làm sao mà mỗi con 1 chuồng, không được 1 chuồng 2 con và không có con nào ở ngoài? Xây các chuồng bò thành hình tam giác, mỗi cạnh 3 chuồng, con thứ\\nCon trả lời là 5. - Bò chỉ có 4 chân thôi mà? - Tũn tròn mắt. Cậu con trai nhún vai: - Nhưng con là người đưa ra đáp án gần đúng nhất! - !!! Tất Nhiên (st) Trở lại Thư giãn Trở lại Thư giãn. Thấy cậu con trai trở về với chiếc nơ xanh trên cổ tay, Tũn hỏi: - VnExpress.\\nĐáp án: Con bò này cưỡi lên lưng con bò kia theo vòng tròn nên mỗi con chỉ có 2 chân. Đó là lý do vì sao khi bạn nhìn thấy 6 con bò lại chỉ đếm thấy có 12 cái chân. Đọc báo điện tử Thiếu niên Tiền phong và Nhi đồng nhanh chóng, thuận tiện và an toàn hơn trên các thiết bị\\nNgoài 4 cái chân thì trên lưng còn có thêm 2 chân nhỏ và 1 cái đuôi. Anh Tuấn say đó mua con bê này về để nuôi. Khi đưa về nuôi, con bò dần lớn lên và 2 cái chân trên lưng cũng lớn dần theo. Đến nay, 2 cái chân trên lưng lớn không kém 4 chiếc chân chính khác.\\nCon bò có 5 chân. - Nơ xanh ở đâu vậy con? - Hôm nay con trả lời đúng câu hỏi của cô giáo nên được thưởng ạ! - cậu con trai tự hào đáp. - Con giỏi quá! - Tũn khích lệ - Thế cô giáo hỏi gì nào? - Cô hỏi con bò có mấy chân?')]}\n",
      "---------\n",
      "Con bò có 5 cái chân.\n"
     ]
    }
   ],
   "source": [
    "inputs = {\"question\": \"Con bò có mấy cái chân\", \"max_retries\": 3}\n",
    "for event in graph.stream(inputs, stream_mode=\"values\"):\n",
    "    print(event)\n",
    "print(\"---------\")\n",
    "print(event['generation'].content)"
   ]
  },
  {
   "cell_type": "code",
   "execution_count": null,
   "metadata": {},
   "outputs": [],
   "source": [
    "# 1\n",
    "x = \"lala\"\n",
    "y = 2\n",
    "z = {'a': 'b'}"
   ]
  }
 ],
 "metadata": {
  "kernelspec": {
   "display_name": "chatbot-agent",
   "language": "python",
   "name": "python3"
  },
  "language_info": {
   "codemirror_mode": {
    "name": "ipython",
    "version": 3
   },
   "file_extension": ".py",
   "mimetype": "text/x-python",
   "name": "python",
   "nbconvert_exporter": "python",
   "pygments_lexer": "ipython3",
   "version": "3.12.7"
  }
 },
 "nbformat": 4,
 "nbformat_minor": 2
}
