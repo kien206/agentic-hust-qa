{
 "cells": [
  {
   "cell_type": "code",
   "execution_count": 1,
   "id": "ee04b6a0",
   "metadata": {},
   "outputs": [],
   "source": [
    "from langchain_ollama import ChatOllama\n",
    "from langchain_core.messages import HumanMessage, SystemMessage, AIMessage\n",
    "\n",
    "local_llm = \"qwen2.5:7b\"\n",
    "llm = ChatOllama(model=local_llm, temperature=0)\n",
    "llm_json_mode = ChatOllama(model=local_llm, temperature=0, format=\"json\")"
   ]
  },
  {
   "cell_type": "code",
   "execution_count": 6,
   "id": "ac3f9ecc",
   "metadata": {},
   "outputs": [],
   "source": [
    "\n",
    "citation = \"\\nNguồn: \"\n",
    "citation += \"Điều 3, khoản 3\""
   ]
  },
  {
   "cell_type": "code",
   "execution_count": 2,
   "id": "9dc06267",
   "metadata": {},
   "outputs": [],
   "source": [
    "result = await llm.ainvoke([HumanMessage(content=\"hello, what is your name\")])"
   ]
  },
  {
   "cell_type": "code",
   "execution_count": 7,
   "id": "c7767558",
   "metadata": {},
   "outputs": [],
   "source": [
    "result.content += citation"
   ]
  },
  {
   "cell_type": "code",
   "execution_count": 8,
   "id": "6c17b302",
   "metadata": {},
   "outputs": [
    {
     "name": "stdout",
     "output_type": "stream",
     "text": [
      "content=\"Hello! My name is Qwen. I'm an AI assistant created by Alibaba Cloud. How can I assist you today?abcxyz\\nNguồn: Điều 3, khoản 3\" additional_kwargs={} response_metadata={'model': 'qwen2.5:7b', 'created_at': '2025-04-14T10:44:23.2495035Z', 'done': True, 'done_reason': 'stop', 'total_duration': 26869908600, 'load_duration': 10870040800, 'prompt_eval_count': 35, 'prompt_eval_duration': 9143002100, 'eval_count': 26, 'eval_duration': 6849306000, 'message': Message(role='assistant', content='', images=None, tool_calls=None)} id='run-688330a2-55b2-4148-857d-c06ae9f8dc9e-0' usage_metadata={'input_tokens': 35, 'output_tokens': 26, 'total_tokens': 61}\n"
     ]
    }
   ],
   "source": [
    "print(result)"
   ]
  },
  {
   "cell_type": "code",
   "execution_count": null,
   "id": "b21e3cb7",
   "metadata": {},
   "outputs": [],
   "source": []
  },
  {
   "cell_type": "code",
   "execution_count": null,
   "id": "6d5f5a93",
   "metadata": {},
   "outputs": [],
   "source": []
  }
 ],
 "metadata": {
  "kernelspec": {
   "display_name": "chatbot-agent",
   "language": "python",
   "name": "python3"
  },
  "language_info": {
   "codemirror_mode": {
    "name": "ipython",
    "version": 3
   },
   "file_extension": ".py",
   "mimetype": "text/x-python",
   "name": "python",
   "nbconvert_exporter": "python",
   "pygments_lexer": "ipython3",
   "version": "3.12.7"
  }
 },
 "nbformat": 4,
 "nbformat_minor": 5
}
