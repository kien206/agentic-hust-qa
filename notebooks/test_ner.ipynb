{
 "cells": [
  {
   "cell_type": "code",
   "execution_count": 1,
   "metadata": {},
   "outputs": [],
   "source": [
    "from langchain_ollama import ChatOllama\n",
    "from langchain.output_parsers import ResponseSchema\n",
    "from langchain.output_parsers import StructuredOutputParser"
   ]
  },
  {
   "cell_type": "code",
   "execution_count": 2,
   "metadata": {},
   "outputs": [],
   "source": [
    "local_llm = \"llama3.1\"\n",
    "llm = ChatOllama(model=local_llm, temperature=0)\n",
    "llm_json_mode = ChatOllama(model=local_llm, temperature=0, format=\"json\")"
   ]
  },
  {
   "cell_type": "code",
   "execution_count": 3,
   "metadata": {},
   "outputs": [],
   "source": [
    "# name\n",
    "full_name_field = ResponseSchema(name=\"name\", description=f\"Based on the latest user message, extract the names presented in the message. Here are some possible labels: 'full_name', 'short_name'. All the names are in Vietnamese and they can be in capital form or not. If the name is missing first name or last name, it is a short name. For example, a person named 'Đinh Viết Sang', in the message it can be 'đinh viết sang' (not capital form) or 'Sang' (short name).\")\n",
    "# subject/courses\n",
    "courses_name_field = ResponseSchema(name=\"courses\", description=f\"Based on the user message about lecturer information, extract the subjects/courses that a teacher can teach in a university. Here are some possible labels: 'course_name', 'course_code'. The course name is the name of the course, for example 'Ứng dụng học sâu', while the code is in the format 'IT1234E'. Everything will be in Vietnamese. \")\n",
    "# faculty\n",
    "\n",
    "conversation_metadata_output_schema_parser = StructuredOutputParser.from_response_schemas(\n",
    "    [\n",
    "        # user intent\n",
    "        full_name_field,\n",
    "        # user need\n",
    "        courses_name_field\n",
    "    ]\n",
    ")\n",
    "conversation_metadata_output_schema = conversation_metadata_output_schema_parser.get_format_instructions()"
   ]
  },
  {
   "cell_type": "code",
   "execution_count": 11,
   "metadata": {},
   "outputs": [],
   "source": [
    "from langchain.prompts import PromptTemplate\n",
    "\n",
    "conversation_metadata_prompt_template_str = \"\"\"\n",
    "Given in input a question about lecturer, courses information between a user and a Hanoi University of Science and Technology assistant, \\\n",
    "extract the following metadata according to the format instructions below. If there are no answer, extract the dictionary with no values.\n",
    " \n",
    "<< FORMATTING >>\n",
    "{format_instructions}\n",
    " \n",
    "<< INPUT >>\n",
    "{chat_history}\n",
    "\"\"\"\n",
    " \n",
    "conversation_metadata_prompt_template = PromptTemplate.from_template(template=conversation_metadata_prompt_template_str)"
   ]
  },
  {
   "cell_type": "code",
   "execution_count": 49,
   "metadata": {},
   "outputs": [
    {
     "name": "stdout",
     "output_type": "stream",
     "text": [
      "{'name': {'full_name': 'Đức Anh', 'short_name': None}, 'courses': ['Machine Learning', 'Tối ưu lập kế hoạch']}\n"
     ]
    }
   ],
   "source": [
    "question = \"Cho thông tin về thầy Đức Anh dạy môn Machine Learning và cô Huỳnh Thị Thanh Bình môn Tối ưu lập kế hoạch\"\n",
    "\n",
    "conversation_metadata_recognition_prompt = (\n",
    "    conversation_metadata_prompt_template.format(\n",
    "        chat_history=question,\n",
    "        format_instructions=conversation_metadata_output_schema\n",
    "    )\n",
    ")\n",
    "\n",
    "conversation_metadata_detected_str = llm.invoke(conversation_metadata_recognition_prompt)\n",
    "\n",
    "# conversion from string to python dict\n",
    "conversation_metadata_detected = conversation_metadata_output_schema_parser.parse(conversation_metadata_detected_str.content)\n",
    "print(conversation_metadata_detected)"
   ]
  },
  {
   "cell_type": "code",
   "execution_count": 55,
   "metadata": {},
   "outputs": [],
   "source": [
    "prompt = \"\"\"\n",
    "You are a Name Entity Recognition expert that detects enities based on a question. The question will be about lecturers or a course in Hanoi University of Science and Technology. Here are the labels and their description:\n",
    "\n",
    "- names: the name of the lecturer .For example, one's name can 'Đinh Viết Sang', but can also be 'Sang'.\n",
    "- courses: the course/subject name, referring to the course/subject name ('Ứng dụng học sâu', 'Machine Learning').\n",
    "\n",
    "The lectuer names will be in Vietnames, but the course name can be in English or Vietnamese.  \n",
    "Return JSON with 2 keys, 'names' and 'courses'. Their values is be a list of entities name. If there are no answer, return an empty JSON with the 2 main keys only. ALWAYS use what is presented in the question for the answer and copy them into the output.\n",
    "\n",
    "Here is an example output:\n",
    "{'names': ['Đinh Viết Sang', 'Tạ Hải Tùng', 'Hiếu', 'Đức Anh'], 'courses': ['Machine Learning', 'Tối ưu hóa']}\n",
    "\"\"\""
   ]
  },
  {
   "cell_type": "code",
   "execution_count": 56,
   "metadata": {},
   "outputs": [],
   "source": [
    "from langchain_core.messages import HumanMessage, SystemMessage\n",
    "\n",
    "question = \"Cho thông tin về thầy Đức Anh dạy môn Machine Learning và cô Huỳnh Thị Thanh Bình môn Tối ưu lập kế hoạch\"\n",
    "\n",
    "answer = llm_json_mode.invoke(\n",
    "    [SystemMessage(content=prompt)] +\n",
    "    [HumanMessage(content=question)]\n",
    ")"
   ]
  },
  {
   "cell_type": "code",
   "execution_count": 57,
   "metadata": {},
   "outputs": [
    {
     "name": "stdout",
     "output_type": "stream",
     "text": [
      "{ \n",
      "  \"names\": [\"Đức Anh\", \"Huỳnh Thị Thanh Bình\"], \n",
      "  \"courses\": [\"Machine Learning\", \"Tối ưu lập kế hoạch\"] \n",
      "}\n"
     ]
    }
   ],
   "source": [
    "print(answer.content)"
   ]
  },
  {
   "cell_type": "code",
   "execution_count": null,
   "metadata": {},
   "outputs": [],
   "source": []
  },
  {
   "cell_type": "code",
   "execution_count": null,
   "metadata": {},
   "outputs": [
    {
     "name": "stdout",
     "output_type": "stream",
     "text": [
      "{'names': ['Đức Anh', 'Huỳnh Thị Thanh Bình'], 'courses': ['Machine Learning', 'Tối ưu lập kế hoạch']}\n"
     ]
    }
   ],
   "source": []
  },
  {
   "cell_type": "code",
   "execution_count": null,
   "metadata": {},
   "outputs": [
    {
     "ename": "ModuleNotFoundError",
     "evalue": "No module named 'database'",
     "output_type": "error",
     "traceback": [
      "\u001b[1;31m---------------------------------------------------------------------------\u001b[0m",
      "\u001b[1;31mModuleNotFoundError\u001b[0m                       Traceback (most recent call last)",
      "Cell \u001b[1;32mIn[64], line 2\u001b[0m\n\u001b[0;32m      1\u001b[0m \u001b[38;5;28;01mimport\u001b[39;00m \u001b[38;5;21;01mos\u001b[39;00m\n\u001b[1;32m----> 2\u001b[0m \u001b[38;5;28;01mfrom\u001b[39;00m \u001b[38;5;21;01mdatabase\u001b[39;00m\u001b[38;5;21;01m.\u001b[39;00m\u001b[38;5;21;01mdb_utils\u001b[39;00m \u001b[38;5;28;01mimport\u001b[39;00m setup_database\n\u001b[0;32m      3\u001b[0m \u001b[38;5;28;01mfrom\u001b[39;00m \u001b[38;5;21;01msrc\u001b[39;00m\u001b[38;5;21;01m.\u001b[39;00m\u001b[38;5;21;01mutils\u001b[39;00m\u001b[38;5;21;01m.\u001b[39;00m\u001b[38;5;21;01mutils\u001b[39;00m \u001b[38;5;28;01mimport\u001b[39;00m get_database\n\u001b[0;32m      4\u001b[0m \u001b[38;5;28;01mfrom\u001b[39;00m \u001b[38;5;21;01msrc\u001b[39;00m\u001b[38;5;21;01m.\u001b[39;00m\u001b[38;5;21;01mdatabase\u001b[39;00m\u001b[38;5;21;01m.\u001b[39;00m\u001b[38;5;21;01msql_dataloader\u001b[39;00m \u001b[38;5;28;01mimport\u001b[39;00m initialize_database\n",
      "\u001b[1;31mModuleNotFoundError\u001b[0m: No module named 'database'"
     ]
    }
   ],
   "source": [
    "import os\n",
    "from src.database.db_utils import setup_database\n",
    "from src.utils.utils import get_database\n",
    "from src.database.sql_dataloader import initialize_database\n",
    "\n",
    "if os.path.exists(\"data/lecturers/soict_lecturers.json\"):\n",
    "    # If data file is provided and exists, initialize database with it\n",
    "    engine, db = initialize_database(\"data/lecturers/soict_lecturers.json\")\n",
    "else:\n",
    "    # Otherwise, just connect to the existing database\n",
    "    engine = setup_database()\n",
    "    db = get_database(engine)"
   ]
  },
  {
   "cell_type": "code",
   "execution_count": null,
   "metadata": {},
   "outputs": [],
   "source": []
  }
 ],
 "metadata": {
  "kernelspec": {
   "display_name": "chatbot-agent",
   "language": "python",
   "name": "python3"
  },
  "language_info": {
   "codemirror_mode": {
    "name": "ipython",
    "version": 3
   },
   "file_extension": ".py",
   "mimetype": "text/x-python",
   "name": "python",
   "nbconvert_exporter": "python",
   "pygments_lexer": "ipython3",
   "version": "3.12.7"
  }
 },
 "nbformat": 4,
 "nbformat_minor": 2
}
