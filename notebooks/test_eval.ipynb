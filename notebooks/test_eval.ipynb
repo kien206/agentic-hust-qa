{
 "cells": [
  {
   "cell_type": "code",
   "execution_count": 1,
   "metadata": {},
   "outputs": [
    {
     "name": "stderr",
     "output_type": "stream",
     "text": [
      "g:\\anaconda\\anaconda3\\envs\\chatbot-agent\\Lib\\site-packages\\tqdm\\auto.py:21: TqdmWarning: IProgress not found. Please update jupyter and ipywidgets. See https://ipywidgets.readthedocs.io/en/stable/user_install.html\n",
      "  from .autonotebook import tqdm as notebook_tqdm\n"
     ]
    }
   ],
   "source": [
    "import os\n",
    "from datasets import load_dataset\n",
    "\n",
    "from ragas import EvaluationDataset, evaluate\n",
    "from ragas.embeddings import LangchainEmbeddingsWrapper\n",
    "from ragas.metrics import LLMContextRecall, Faithfulness, FactualCorrectness, SemanticSimilarity\n",
    "from ragas.llms import LangchainLLMWrapper\n",
    "from ragas.embeddings import HuggingfaceEmbeddings\n",
    "from langchain_openai import ChatOpenAI, OpenAIEmbeddings\n",
    "\n",
    "from dotenv import load_dotenv\n",
    "\n",
    "load_dotenv()\n",
    "\n",
    "\n",
    "evaluator_llm = LangchainLLMWrapper(ChatOpenAI(model=\"gpt-4o-mini\", temperature=0))\n",
    "evaluator_embeddings = LangchainEmbeddingsWrapper(OpenAIEmbeddings(model=\"text-embedding-3-large\"))\n"
   ]
  },
  {
   "cell_type": "code",
   "execution_count": 2,
   "metadata": {},
   "outputs": [],
   "source": [
    "\n",
    "dataset = load_dataset(\n",
    "    \"json\",\n",
    "    data_files=\"../data/eval/test_dataset_new.json\",\n",
    "    field='data',\n",
    "    split='train'\n",
    ")\n",
    "\n",
    "eval_dataset = EvaluationDataset.from_hf_dataset(dataset)\n",
    "\n"
   ]
  },
  {
   "cell_type": "code",
   "execution_count": 3,
   "metadata": {},
   "outputs": [
    {
     "data": {
      "text/plain": [
       "SingleTurnSample(user_input='Đối tượng được dự thi tiếng Anh nội bộ', retrieved_contexts=['0\\n\\n      BỘ GIÁO DỤC VÀ ĐÀO TẠO                       CỘNG HÒA XÃ HỘI CHỦ NGHĨA VIỆT NAM\\n    ĐẠI HỌC BÁCH KHOA HÀ NỘI                                Độc lập – Tự do – Hạnh phúc\\n           Số:        /QĐ-ĐHBK                                  Hà Nội, ngày        tháng 4 năm 2023\\n                                             QUYẾT ĐỊNH\\n                    Về việc Ban hành Quy định tổ chức thi tiếng Anh nội bộ\\n                                    của Đại học Bách khoa Hà Nội', 'Điều 1. Phạm vi điều chỉnh và đối tượng áp dụng\\n      Văn bản này quy định về công tác tổ chức thi tiếng Anh nội bộ Đại học Bách khoa\\nHà Nội.\\n      Đối tượng dự thi: Sinh viên Đại học Bách khoa Hà Nội.\\n      Điều 2. Hội đồng thi và các tiểu ban\\n      1. Hội đồng thi\\n      a) Giám đốc ra quyết định thành lập Hội đồng thi (HĐT) để điều hành các công\\nviệc liên quan đến công tác tổ chức các kỳ thi tiếng Anh nội bộ theo năm học.\\n      b) Thành phần của HĐT gồm có: Chủ tịch HĐT do Phó Giám đốc phụ trách đào\\ntạo đảm nhiệm. Các ủy viên của HĐT là đại diện lãnh đạo của các đơn vị: phòng Đào\\ntạo (phòng ĐT), viện Ngoại ngữ (viện NN), Trung tâm Ngôn ngữ và Hỗ trợ trao đổi học\\nthuật (trung tâm CLA), phòng Thanh tra Pháp chế (phòng TTPC) và một số giảng viên,\\nchuyên viên thuộc các đơn vị trên.\\n      c) Trung tâm CLA là đơn vị đầu mối trong công tác tổ chức thi.\\n      2. Các tiểu ban\\n      Chủ tịch HĐT ra quyết định thành lập các tiểu ban để thực hiện các nhiệm vụ cụ\\nthể, bao gồm: tiểu ban Đề thi, tiểu ban Coi thi - Tổ chức thi, tiểu ban Kỹ thuật, tiểu ban\\nThanh tra – Giám sát và Tổ Thư ký.', 'QUYẾT ĐỊNH:\\n\\n           Điều 1. Ban hành Quy định tổ chức thi tiếng Anh nội bộ của Đại học Bách khoa\\n    Hà Nội.\\n           Điều 2. Quyết định này có hiệu lực kể từ ngày ký.\\n           Các ông/bà Trưởng phòng Đào tạo, Viện trưởng Viện Ngoại ngữ, Giám đốc Trung\\n    tâm Ngôn ngữ & Hỗ trợ trao đổi học thuật, trưởng các đơn vị và các cá nhân liên quan\\n    chịu trách nhiệm thi hành quyết định này./.\\n       Nơi nhận:                                                      KT. GIÁM ĐỐC\\n       - Như Điều 2;                                                 PHÓ GIÁM ĐỐC\\n       - Lưu: VT, ĐT.\\nXQ\\n                                                              PGS. TS. Nguyễn Phong Điền                                                     1\\n\\n                                             QUY ĐỊNH\\n           Tổ chức thi tiếng Anh nội bộ của Đại học Bách khoa Hà Nội\\n  (Ban hành kèm theo Quyết định số:                 /QĐ-ĐHBK ngày            tháng 4 năm 2023 của\\n                              Giám đốc Đại học Bách khoa Hà Nội)'], reference_contexts=None, response='Theo quy định tại Điều 1 của Văn bản này, đối tượng được dự thi tiếng Anh nội bộ là sinh viên Đại học Bách khoa Hà Nội.', multi_responses=None, reference='Đối tượng được dự thi tiếng Anh nội bộ là toàn bộ sinh viên Đại học Bách khoa Hà Nội.', rubrics=None)"
      ]
     },
     "execution_count": 3,
     "metadata": {},
     "output_type": "execute_result"
    }
   ],
   "source": [
    "eval_dataset[0]"
   ]
  },
  {
   "cell_type": "code",
   "execution_count": 4,
   "metadata": {},
   "outputs": [
    {
     "name": "stderr",
     "output_type": "stream",
     "text": [
      "Evaluating: 100%|██████████| 378/378 [03:55<00:00,  1.60it/s]\n"
     ]
    }
   ],
   "source": [
    "import nest_asyncio\n",
    "nest_asyncio.apply()\n",
    "\n",
    "metrics = [\n",
    "    # LLMContextRecall(llm=evaluator_llm), \n",
    "    FactualCorrectness(llm=evaluator_llm), \n",
    "    Faithfulness(llm=evaluator_llm),\n",
    "    SemanticSimilarity(embeddings=evaluator_embeddings)\n",
    "]\n",
    "\n",
    "results = evaluate(dataset=eval_dataset, metrics=metrics)"
   ]
  },
  {
   "cell_type": "code",
   "execution_count": 5,
   "metadata": {},
   "outputs": [],
   "source": [
    "df = results.to_pandas()"
   ]
  },
  {
   "cell_type": "code",
   "execution_count": 6,
   "metadata": {},
   "outputs": [
    {
     "data": {
      "text/html": [
       "<div>\n",
       "<style scoped>\n",
       "    .dataframe tbody tr th:only-of-type {\n",
       "        vertical-align: middle;\n",
       "    }\n",
       "\n",
       "    .dataframe tbody tr th {\n",
       "        vertical-align: top;\n",
       "    }\n",
       "\n",
       "    .dataframe thead th {\n",
       "        text-align: right;\n",
       "    }\n",
       "</style>\n",
       "<table border=\"1\" class=\"dataframe\">\n",
       "  <thead>\n",
       "    <tr style=\"text-align: right;\">\n",
       "      <th></th>\n",
       "      <th>user_input</th>\n",
       "      <th>retrieved_contexts</th>\n",
       "      <th>response</th>\n",
       "      <th>reference</th>\n",
       "      <th>factual_correctness</th>\n",
       "      <th>faithfulness</th>\n",
       "      <th>semantic_similarity</th>\n",
       "    </tr>\n",
       "  </thead>\n",
       "  <tbody>\n",
       "    <tr>\n",
       "      <th>0</th>\n",
       "      <td>Đối tượng được dự thi tiếng Anh nội bộ</td>\n",
       "      <td>[0\\n\\n      BỘ GIÁO DỤC VÀ ĐÀO TẠO            ...</td>\n",
       "      <td>Theo quy định tại Điều 1 của Văn bản này, đối ...</td>\n",
       "      <td>Đối tượng được dự thi tiếng Anh nội bộ là toàn...</td>\n",
       "      <td>0.67</td>\n",
       "      <td>1.000000</td>\n",
       "      <td>0.849053</td>\n",
       "    </tr>\n",
       "    <tr>\n",
       "      <th>1</th>\n",
       "      <td>Hội đồng thi tiếng Anh nội bộ gồm những ai</td>\n",
       "      <td>[0\\n\\n      BỘ GIÁO DỤC VÀ ĐÀO TẠO            ...</td>\n",
       "      <td>Hội đồng thi tiếng Anh nội bộ (HĐT) bao gồm Ch...</td>\n",
       "      <td>Hội đồng thi gồm:\\r\\n- Giám đốc ra quyết định ...</td>\n",
       "      <td>0.86</td>\n",
       "      <td>0.800000</td>\n",
       "      <td>0.832095</td>\n",
       "    </tr>\n",
       "    <tr>\n",
       "      <th>2</th>\n",
       "      <td>Các tiểu ban tổ chức thi tiếng Anh nội bộ</td>\n",
       "      <td>[Điều 1. Phạm vi điều chỉnh và đối tượng áp dụ...</td>\n",
       "      <td>Theo quy định tại Điều 2 của văn bản này, các ...</td>\n",
       "      <td>Chủ tịch HĐT ra quyết định thành lập các tiểu ...</td>\n",
       "      <td>0.20</td>\n",
       "      <td>1.000000</td>\n",
       "      <td>0.749939</td>\n",
       "    </tr>\n",
       "    <tr>\n",
       "      <th>3</th>\n",
       "      <td>Nhiệm vụ của các tiểu ban trong tổ chức tiếng ...</td>\n",
       "      <td>[Điều 1. Phạm vi điều chỉnh và đối tượng áp dụ...</td>\n",
       "      <td>Các nhiệm vụ của các tiểu ban trong tổ chức ti...</td>\n",
       "      <td>- Tiểu ban Đề thi có nhiệm vụ tư vấn và tổ chứ...</td>\n",
       "      <td>0.76</td>\n",
       "      <td>0.882353</td>\n",
       "      <td>0.844743</td>\n",
       "    </tr>\n",
       "    <tr>\n",
       "      <th>4</th>\n",
       "      <td>Vai trò trong công tác tổ chức thi của các bên</td>\n",
       "      <td>[Điều 1. Phạm vi điều chỉnh và đối tượng áp dụ...</td>\n",
       "      <td>Theo quy định tại Điều 2, các bên có vai trò s...</td>\n",
       "      <td>a) Tiểu ban Coi thi – Tổ chức thi phối hợp với...</td>\n",
       "      <td>0.32</td>\n",
       "      <td>1.000000</td>\n",
       "      <td>0.733865</td>\n",
       "    </tr>\n",
       "  </tbody>\n",
       "</table>\n",
       "</div>"
      ],
      "text/plain": [
       "                                          user_input  \\\n",
       "0             Đối tượng được dự thi tiếng Anh nội bộ   \n",
       "1         Hội đồng thi tiếng Anh nội bộ gồm những ai   \n",
       "2          Các tiểu ban tổ chức thi tiếng Anh nội bộ   \n",
       "3  Nhiệm vụ của các tiểu ban trong tổ chức tiếng ...   \n",
       "4     Vai trò trong công tác tổ chức thi của các bên   \n",
       "\n",
       "                                  retrieved_contexts  \\\n",
       "0  [0\\n\\n      BỘ GIÁO DỤC VÀ ĐÀO TẠO            ...   \n",
       "1  [0\\n\\n      BỘ GIÁO DỤC VÀ ĐÀO TẠO            ...   \n",
       "2  [Điều 1. Phạm vi điều chỉnh và đối tượng áp dụ...   \n",
       "3  [Điều 1. Phạm vi điều chỉnh và đối tượng áp dụ...   \n",
       "4  [Điều 1. Phạm vi điều chỉnh và đối tượng áp dụ...   \n",
       "\n",
       "                                            response  \\\n",
       "0  Theo quy định tại Điều 1 của Văn bản này, đối ...   \n",
       "1  Hội đồng thi tiếng Anh nội bộ (HĐT) bao gồm Ch...   \n",
       "2  Theo quy định tại Điều 2 của văn bản này, các ...   \n",
       "3  Các nhiệm vụ của các tiểu ban trong tổ chức ti...   \n",
       "4  Theo quy định tại Điều 2, các bên có vai trò s...   \n",
       "\n",
       "                                           reference  factual_correctness  \\\n",
       "0  Đối tượng được dự thi tiếng Anh nội bộ là toàn...                 0.67   \n",
       "1  Hội đồng thi gồm:\\r\\n- Giám đốc ra quyết định ...                 0.86   \n",
       "2  Chủ tịch HĐT ra quyết định thành lập các tiểu ...                 0.20   \n",
       "3  - Tiểu ban Đề thi có nhiệm vụ tư vấn và tổ chứ...                 0.76   \n",
       "4  a) Tiểu ban Coi thi – Tổ chức thi phối hợp với...                 0.32   \n",
       "\n",
       "   faithfulness  semantic_similarity  \n",
       "0      1.000000             0.849053  \n",
       "1      0.800000             0.832095  \n",
       "2      1.000000             0.749939  \n",
       "3      0.882353             0.844743  \n",
       "4      1.000000             0.733865  "
      ]
     },
     "execution_count": 6,
     "metadata": {},
     "output_type": "execute_result"
    }
   ],
   "source": [
    "df.head()"
   ]
  },
  {
   "cell_type": "code",
   "execution_count": 7,
   "metadata": {},
   "outputs": [
    {
     "name": "stdout",
     "output_type": "stream",
     "text": [
      "Evaluation results uploaded! View at https://app.ragas.io/dashboard/alignment/evaluation/c234ce1e-aa6b-418e-bd38-6482d09895f7\n"
     ]
    },
    {
     "data": {
      "text/plain": [
       "'https://app.ragas.io/dashboard/alignment/evaluation/c234ce1e-aa6b-418e-bd38-6482d09895f7'"
      ]
     },
     "execution_count": 7,
     "metadata": {},
     "output_type": "execute_result"
    }
   ],
   "source": [
    "\n",
    "results.upload()"
   ]
  },
  {
   "cell_type": "code",
   "execution_count": null,
   "metadata": {},
   "outputs": [],
   "source": []
  }
 ],
 "metadata": {
  "kernelspec": {
   "display_name": "chatbot-agent",
   "language": "python",
   "name": "python3"
  },
  "language_info": {
   "codemirror_mode": {
    "name": "ipython",
    "version": 3
   },
   "file_extension": ".py",
   "mimetype": "text/x-python",
   "name": "python",
   "nbconvert_exporter": "python",
   "pygments_lexer": "ipython3",
   "version": "3.12.7"
  }
 },
 "nbformat": 4,
 "nbformat_minor": 2
}
