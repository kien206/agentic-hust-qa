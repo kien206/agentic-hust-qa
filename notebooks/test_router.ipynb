{
 "cells": [
  {
   "cell_type": "code",
   "execution_count": 11,
   "id": "579abbeb",
   "metadata": {},
   "outputs": [],
   "source": [
    "router_prompt = \"\"\"You are an expert at routing a user question to a vectorstore or a SQL store or a websearch.\n",
    "\n",
    "    The vectorstore contains documents, regulations and information related to Hanoi University of Science & Technology.\n",
    "\n",
    "    Use the vectorstore for questions on these topics. For questions related to teachers that include names, use the SQL store. For other questions that are irrelevant, use the irrelevant tool.\n",
    "\n",
    "    Return JSON with single key, datasource, that is 'vectorstore' or 'sql' or 'irrelevant' depending on the question.\"\"\""
   ]
  },
  {
   "cell_type": "code",
   "execution_count": 12,
   "id": "98e413d5",
   "metadata": {},
   "outputs": [],
   "source": [
    "from langchain_ollama import ChatOllama\n",
    "from langchain_core.messages import HumanMessage, SystemMessage, AIMessage\n",
    "\n",
    "local_llm = \"qwen2.5:7b\"\n",
    "llm = ChatOllama(model=local_llm, temperature=0)\n",
    "llm_json_mode = ChatOllama(model=local_llm, temperature=0, format=\"json\")"
   ]
  },
  {
   "cell_type": "code",
   "execution_count": 16,
   "id": "e80c99fd",
   "metadata": {},
   "outputs": [],
   "source": [
    "query = \"tôi cần học tối thiểu bao nhiêu học phần bổ sung\"\n",
    "result = llm_json_mode.invoke(\n",
    "    [SystemMessage(content=router_prompt)] + [HumanMessage(content=query)]\n",
    ")"
   ]
  },
  {
   "cell_type": "code",
   "execution_count": 17,
   "id": "31ba48b2",
   "metadata": {},
   "outputs": [
    {
     "name": "stdout",
     "output_type": "stream",
     "text": [
      "{\n",
      "  \"datasource\": \"vectorstore\"\n",
      "}\n"
     ]
    }
   ],
   "source": [
    "print(result.content)"
   ]
  },
  {
   "cell_type": "code",
   "execution_count": null,
   "id": "6e6bc3de",
   "metadata": {},
   "outputs": [],
   "source": []
  }
 ],
 "metadata": {
  "kernelspec": {
   "display_name": "chatbot-agent",
   "language": "python",
   "name": "python3"
  },
  "language_info": {
   "codemirror_mode": {
    "name": "ipython",
    "version": 3
   },
   "file_extension": ".py",
   "mimetype": "text/x-python",
   "name": "python",
   "nbconvert_exporter": "python",
   "pygments_lexer": "ipython3",
   "version": "3.12.7"
  }
 },
 "nbformat": 4,
 "nbformat_minor": 5
}
